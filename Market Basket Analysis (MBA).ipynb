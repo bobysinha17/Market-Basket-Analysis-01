{
 "cells": [
  {
   "cell_type": "code",
   "execution_count": 1,
   "id": "unlimited-example",
   "metadata": {},
   "outputs": [
    {
     "name": "stderr",
     "output_type": "stream",
     "text": [
      "UsageError: Line magic function `%matplot` not found.\n"
     ]
    }
   ],
   "source": [
    "import pandas as pd\n",
    "import numpy as np\n",
    "import seaborn as sns\n",
    "import matplotlib.pyplot as plt\n",
    "from apyori import apriori\n",
    "%matplot inline"
   ]
  },
  {
   "cell_type": "code",
   "execution_count": 4,
   "id": "hearing-width",
   "metadata": {},
   "outputs": [],
   "source": [
    "df= pd.read_csv('C://Users//Boby Sinha//OneDrive//Desktop//DS Project//Project Dataset//bread basket.csv')"
   ]
  },
  {
   "cell_type": "code",
   "execution_count": 6,
   "id": "severe-invasion",
   "metadata": {},
   "outputs": [
    {
     "data": {
      "text/html": [
       "<div>\n",
       "<style scoped>\n",
       "    .dataframe tbody tr th:only-of-type {\n",
       "        vertical-align: middle;\n",
       "    }\n",
       "\n",
       "    .dataframe tbody tr th {\n",
       "        vertical-align: top;\n",
       "    }\n",
       "\n",
       "    .dataframe thead th {\n",
       "        text-align: right;\n",
       "    }\n",
       "</style>\n",
       "<table border=\"1\" class=\"dataframe\">\n",
       "  <thead>\n",
       "    <tr style=\"text-align: right;\">\n",
       "      <th></th>\n",
       "      <th>Transaction</th>\n",
       "      <th>Item</th>\n",
       "      <th>date_time</th>\n",
       "      <th>period_day</th>\n",
       "      <th>weekday_weekend</th>\n",
       "    </tr>\n",
       "  </thead>\n",
       "  <tbody>\n",
       "    <tr>\n",
       "      <th>0</th>\n",
       "      <td>1</td>\n",
       "      <td>Bread</td>\n",
       "      <td>30-10-2016 09:58</td>\n",
       "      <td>morning</td>\n",
       "      <td>weekend</td>\n",
       "    </tr>\n",
       "    <tr>\n",
       "      <th>1</th>\n",
       "      <td>2</td>\n",
       "      <td>Scandinavian</td>\n",
       "      <td>30-10-2016 10:05</td>\n",
       "      <td>morning</td>\n",
       "      <td>weekend</td>\n",
       "    </tr>\n",
       "    <tr>\n",
       "      <th>2</th>\n",
       "      <td>2</td>\n",
       "      <td>Scandinavian</td>\n",
       "      <td>30-10-2016 10:05</td>\n",
       "      <td>morning</td>\n",
       "      <td>weekend</td>\n",
       "    </tr>\n",
       "    <tr>\n",
       "      <th>3</th>\n",
       "      <td>3</td>\n",
       "      <td>Hot chocolate</td>\n",
       "      <td>30-10-2016 10:07</td>\n",
       "      <td>morning</td>\n",
       "      <td>weekend</td>\n",
       "    </tr>\n",
       "    <tr>\n",
       "      <th>4</th>\n",
       "      <td>3</td>\n",
       "      <td>Jam</td>\n",
       "      <td>30-10-2016 10:07</td>\n",
       "      <td>morning</td>\n",
       "      <td>weekend</td>\n",
       "    </tr>\n",
       "    <tr>\n",
       "      <th>5</th>\n",
       "      <td>3</td>\n",
       "      <td>Cookies</td>\n",
       "      <td>30-10-2016 10:07</td>\n",
       "      <td>morning</td>\n",
       "      <td>weekend</td>\n",
       "    </tr>\n",
       "    <tr>\n",
       "      <th>6</th>\n",
       "      <td>4</td>\n",
       "      <td>Muffin</td>\n",
       "      <td>30-10-2016 10:08</td>\n",
       "      <td>morning</td>\n",
       "      <td>weekend</td>\n",
       "    </tr>\n",
       "    <tr>\n",
       "      <th>7</th>\n",
       "      <td>5</td>\n",
       "      <td>Coffee</td>\n",
       "      <td>30-10-2016 10:13</td>\n",
       "      <td>morning</td>\n",
       "      <td>weekend</td>\n",
       "    </tr>\n",
       "    <tr>\n",
       "      <th>8</th>\n",
       "      <td>5</td>\n",
       "      <td>Pastry</td>\n",
       "      <td>30-10-2016 10:13</td>\n",
       "      <td>morning</td>\n",
       "      <td>weekend</td>\n",
       "    </tr>\n",
       "    <tr>\n",
       "      <th>9</th>\n",
       "      <td>5</td>\n",
       "      <td>Bread</td>\n",
       "      <td>30-10-2016 10:13</td>\n",
       "      <td>morning</td>\n",
       "      <td>weekend</td>\n",
       "    </tr>\n",
       "  </tbody>\n",
       "</table>\n",
       "</div>"
      ],
      "text/plain": [
       "   Transaction           Item         date_time period_day weekday_weekend\n",
       "0            1          Bread  30-10-2016 09:58    morning         weekend\n",
       "1            2   Scandinavian  30-10-2016 10:05    morning         weekend\n",
       "2            2   Scandinavian  30-10-2016 10:05    morning         weekend\n",
       "3            3  Hot chocolate  30-10-2016 10:07    morning         weekend\n",
       "4            3            Jam  30-10-2016 10:07    morning         weekend\n",
       "5            3        Cookies  30-10-2016 10:07    morning         weekend\n",
       "6            4         Muffin  30-10-2016 10:08    morning         weekend\n",
       "7            5         Coffee  30-10-2016 10:13    morning         weekend\n",
       "8            5         Pastry  30-10-2016 10:13    morning         weekend\n",
       "9            5          Bread  30-10-2016 10:13    morning         weekend"
      ]
     },
     "execution_count": 6,
     "metadata": {},
     "output_type": "execute_result"
    }
   ],
   "source": [
    "df.head(10)"
   ]
  },
  {
   "cell_type": "code",
   "execution_count": 7,
   "id": "optical-beads",
   "metadata": {},
   "outputs": [
    {
     "data": {
      "text/html": [
       "<div>\n",
       "<style scoped>\n",
       "    .dataframe tbody tr th:only-of-type {\n",
       "        vertical-align: middle;\n",
       "    }\n",
       "\n",
       "    .dataframe tbody tr th {\n",
       "        vertical-align: top;\n",
       "    }\n",
       "\n",
       "    .dataframe thead th {\n",
       "        text-align: right;\n",
       "    }\n",
       "</style>\n",
       "<table border=\"1\" class=\"dataframe\">\n",
       "  <thead>\n",
       "    <tr style=\"text-align: right;\">\n",
       "      <th></th>\n",
       "      <th>Transaction</th>\n",
       "      <th>Item</th>\n",
       "      <th>date_time</th>\n",
       "      <th>period_day</th>\n",
       "      <th>weekday_weekend</th>\n",
       "    </tr>\n",
       "  </thead>\n",
       "  <tbody>\n",
       "    <tr>\n",
       "      <th>20497</th>\n",
       "      <td>9681</td>\n",
       "      <td>Tea</td>\n",
       "      <td>09-04-2017 14:30</td>\n",
       "      <td>afternoon</td>\n",
       "      <td>weekend</td>\n",
       "    </tr>\n",
       "    <tr>\n",
       "      <th>20498</th>\n",
       "      <td>9681</td>\n",
       "      <td>Spanish Brunch</td>\n",
       "      <td>09-04-2017 14:30</td>\n",
       "      <td>afternoon</td>\n",
       "      <td>weekend</td>\n",
       "    </tr>\n",
       "    <tr>\n",
       "      <th>20499</th>\n",
       "      <td>9681</td>\n",
       "      <td>Christmas common</td>\n",
       "      <td>09-04-2017 14:30</td>\n",
       "      <td>afternoon</td>\n",
       "      <td>weekend</td>\n",
       "    </tr>\n",
       "    <tr>\n",
       "      <th>20500</th>\n",
       "      <td>9682</td>\n",
       "      <td>Muffin</td>\n",
       "      <td>09-04-2017 14:32</td>\n",
       "      <td>afternoon</td>\n",
       "      <td>weekend</td>\n",
       "    </tr>\n",
       "    <tr>\n",
       "      <th>20501</th>\n",
       "      <td>9682</td>\n",
       "      <td>Tacos/Fajita</td>\n",
       "      <td>09-04-2017 14:32</td>\n",
       "      <td>afternoon</td>\n",
       "      <td>weekend</td>\n",
       "    </tr>\n",
       "    <tr>\n",
       "      <th>20502</th>\n",
       "      <td>9682</td>\n",
       "      <td>Coffee</td>\n",
       "      <td>09-04-2017 14:32</td>\n",
       "      <td>afternoon</td>\n",
       "      <td>weekend</td>\n",
       "    </tr>\n",
       "    <tr>\n",
       "      <th>20503</th>\n",
       "      <td>9682</td>\n",
       "      <td>Tea</td>\n",
       "      <td>09-04-2017 14:32</td>\n",
       "      <td>afternoon</td>\n",
       "      <td>weekend</td>\n",
       "    </tr>\n",
       "    <tr>\n",
       "      <th>20504</th>\n",
       "      <td>9683</td>\n",
       "      <td>Coffee</td>\n",
       "      <td>09-04-2017 14:57</td>\n",
       "      <td>afternoon</td>\n",
       "      <td>weekend</td>\n",
       "    </tr>\n",
       "    <tr>\n",
       "      <th>20505</th>\n",
       "      <td>9683</td>\n",
       "      <td>Pastry</td>\n",
       "      <td>09-04-2017 14:57</td>\n",
       "      <td>afternoon</td>\n",
       "      <td>weekend</td>\n",
       "    </tr>\n",
       "    <tr>\n",
       "      <th>20506</th>\n",
       "      <td>9684</td>\n",
       "      <td>Smoothies</td>\n",
       "      <td>09-04-2017 15:04</td>\n",
       "      <td>afternoon</td>\n",
       "      <td>weekend</td>\n",
       "    </tr>\n",
       "  </tbody>\n",
       "</table>\n",
       "</div>"
      ],
      "text/plain": [
       "       Transaction              Item         date_time period_day  \\\n",
       "20497         9681               Tea  09-04-2017 14:30  afternoon   \n",
       "20498         9681    Spanish Brunch  09-04-2017 14:30  afternoon   \n",
       "20499         9681  Christmas common  09-04-2017 14:30  afternoon   \n",
       "20500         9682            Muffin  09-04-2017 14:32  afternoon   \n",
       "20501         9682      Tacos/Fajita  09-04-2017 14:32  afternoon   \n",
       "20502         9682            Coffee  09-04-2017 14:32  afternoon   \n",
       "20503         9682               Tea  09-04-2017 14:32  afternoon   \n",
       "20504         9683            Coffee  09-04-2017 14:57  afternoon   \n",
       "20505         9683            Pastry  09-04-2017 14:57  afternoon   \n",
       "20506         9684         Smoothies  09-04-2017 15:04  afternoon   \n",
       "\n",
       "      weekday_weekend  \n",
       "20497         weekend  \n",
       "20498         weekend  \n",
       "20499         weekend  \n",
       "20500         weekend  \n",
       "20501         weekend  \n",
       "20502         weekend  \n",
       "20503         weekend  \n",
       "20504         weekend  \n",
       "20505         weekend  \n",
       "20506         weekend  "
      ]
     },
     "execution_count": 7,
     "metadata": {},
     "output_type": "execute_result"
    }
   ],
   "source": [
    "df.tail(10)"
   ]
  },
  {
   "cell_type": "code",
   "execution_count": 8,
   "id": "duplicate-affair",
   "metadata": {},
   "outputs": [
    {
     "name": "stdout",
     "output_type": "stream",
     "text": [
      "<class 'pandas.core.frame.DataFrame'>\n",
      "RangeIndex: 20507 entries, 0 to 20506\n",
      "Data columns (total 5 columns):\n",
      " #   Column           Non-Null Count  Dtype \n",
      "---  ------           --------------  ----- \n",
      " 0   Transaction      20507 non-null  int64 \n",
      " 1   Item             20507 non-null  object\n",
      " 2   date_time        20507 non-null  object\n",
      " 3   period_day       20507 non-null  object\n",
      " 4   weekday_weekend  20507 non-null  object\n",
      "dtypes: int64(1), object(4)\n",
      "memory usage: 801.2+ KB\n"
     ]
    }
   ],
   "source": [
    "df.info()"
   ]
  },
  {
   "cell_type": "code",
   "execution_count": 9,
   "id": "innovative-still",
   "metadata": {},
   "outputs": [
    {
     "data": {
      "text/plain": [
       "20507"
      ]
     },
     "execution_count": 9,
     "metadata": {},
     "output_type": "execute_result"
    }
   ],
   "source": [
    "len (df)"
   ]
  },
  {
   "cell_type": "code",
   "execution_count": 10,
   "id": "figured-stone",
   "metadata": {},
   "outputs": [
    {
     "data": {
      "text/plain": [
       "(array([0, 1, 2, 3, 4, 5, 6, 7, 8, 9]),\n",
       " [Text(0, 0, 'Coffee'),\n",
       "  Text(1, 0, 'Bread'),\n",
       "  Text(2, 0, 'Tea'),\n",
       "  Text(3, 0, 'Cake'),\n",
       "  Text(4, 0, 'Pastry'),\n",
       "  Text(5, 0, 'Sandwich'),\n",
       "  Text(6, 0, 'Medialuna'),\n",
       "  Text(7, 0, 'Hot chocolate'),\n",
       "  Text(8, 0, 'Cookies'),\n",
       "  Text(9, 0, 'Brownie')])"
      ]
     },
     "execution_count": 10,
     "metadata": {},
     "output_type": "execute_result"
    },
    {
     "data": {
      "image/png": "[encoded data removed]",
      "text/plain": [
       "<Figure size 432x288 with 1 Axes>"
      ]
     },
     "metadata": {
      "needs_background": "light"
     },
     "output_type": "display_data"
    }
   ],
   "source": [
    "sns.countplot(x = 'Item', data = df, order = df['Item'].value_counts().iloc[:10].index)\n",
    "plt.xticks(rotation=90)"
   ]
  },
  {
   "cell_type": "code",
   "execution_count": 11,
   "id": "basic-forest",
   "metadata": {},
   "outputs": [
    {
     "data": {
      "text/plain": [
       "(array([0, 1, 2, 3]),\n",
       " [Text(0, 0, 'afternoon'),\n",
       "  Text(1, 0, 'morning'),\n",
       "  Text(2, 0, 'evening'),\n",
       "  Text(3, 0, 'night')])"
      ]
     },
     "execution_count": 11,
     "metadata": {},
     "output_type": "execute_result"
    },
    {
     "data": {
      "image/png": "[encoded data removed]",
      "text/plain": [
       "<Figure size 432x288 with 1 Axes>"
      ]
     },
     "metadata": {
      "needs_background": "light"
     },
     "output_type": "display_data"
    }
   ],
   "source": [
    "sns.countplot(x = 'period_day', data = df, order = df['period_day'].value_counts().iloc[:10].index)\n",
    "plt.xticks(rotation=90)"
   ]
  },
  {
   "cell_type": "code",
   "execution_count": 12,
   "id": "beautiful-tanzania",
   "metadata": {},
   "outputs": [
    {
     "data": {
      "text/plain": [
       "(array([0, 1]), [Text(0, 0, 'weekday'), Text(1, 0, 'weekend')])"
      ]
     },
     "execution_count": 12,
     "metadata": {},
     "output_type": "execute_result"
    },
    {
     "data": {
      "image/png": "[encoded data removed]",
      "text/plain": [
       "<Figure size 432x288 with 1 Axes>"
      ]
     },
     "metadata": {
      "needs_background": "light"
     },
     "output_type": "display_data"
    }
   ],
   "source": [
    "sns.countplot(x = 'weekday_weekend', data = df, order = df['weekday_weekend'].value_counts().iloc[:10].index)\n",
    "plt.xticks(rotation=90)"
   ]
  },
  {
   "cell_type": "code",
   "execution_count": null,
   "id": "oriental-revolution",
   "metadata": {},
   "outputs": [],
   "source": []
  },
  {
   "cell_type": "code",
   "execution_count": null,
   "id": "periodic-african",
   "metadata": {},
   "outputs": [],
   "source": []
  },
  {
   "cell_type": "code",
   "execution_count": null,
   "id": "addressed-inclusion",
   "metadata": {},
   "outputs": [],
   "source": []
  },
  {
   "cell_type": "code",
   "execution_count": null,
   "id": "balanced-hierarchy",
   "metadata": {},
   "outputs": [],
   "source": []
  }
 ],
 "metadata": {
  "kernelspec": {
   "display_name": "Python 3",
   "language": "python",
   "name": "python3"
  },
  "language_info": {
   "codemirror_mode": {
    "name": "ipython",
    "version": 3
   },
   "file_extension": ".py",
   "mimetype": "text/x-python",
   "name": "python",
   "nbconvert_exporter": "python",
   "pygments_lexer": "ipython3",
   "version": "3.9.2"
  }
 },
 "nbformat": 4,
 "nbformat_minor": 5
}
